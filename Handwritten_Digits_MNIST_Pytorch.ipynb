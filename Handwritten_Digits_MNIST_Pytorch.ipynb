{
 "cells": [
  {
   "cell_type": "code",
   "execution_count": 2,
   "metadata": {},
   "outputs": [
    {
     "name": "stdout",
     "output_type": "stream",
     "text": [
      "tensor([10.,  3.])\n"
     ]
    }
   ],
   "source": [
    "import torch\n",
    "x = torch.Tensor([5,3])\n",
    "y = torch.Tensor([2,1])\n",
    "\n",
    "print(x*y) "
   ]
  },
  {
   "cell_type": "code",
   "execution_count": 3,
   "metadata": {},
   "outputs": [
    {
     "name": "stdout",
     "output_type": "stream",
     "text": [
      "tensor([[0., 0., 0., 0., 0.],\n",
      "        [0., 0., 0., 0., 0.]])\n",
      "torch.Size([2, 5])\n"
     ]
    }
   ],
   "source": [
    "x = torch.zeros([2,5])\n",
    "print(x)\n",
    "print(x.shape)"
   ]
  },
  {
   "cell_type": "code",
   "execution_count": 5,
   "metadata": {},
   "outputs": [],
   "source": [
    "y = torch.rand([2,5])"
   ]
  },
  {
   "cell_type": "code",
   "execution_count": 6,
   "metadata": {},
   "outputs": [
    {
     "name": "stdout",
     "output_type": "stream",
     "text": [
      "tensor([[0.0451, 0.6970, 0.3946, 0.9246, 0.3335],\n",
      "        [0.3380, 0.5236, 0.1898, 0.0594, 0.9061]])\n"
     ]
    }
   ],
   "source": [
    "print(y)"
   ]
  },
  {
   "cell_type": "markdown",
   "metadata": {},
   "source": [
    "Torch works like numpy and is basically an array handling library ! :)"
   ]
  },
  {
   "cell_type": "markdown",
   "metadata": {},
   "source": [
    "### Reshaping in Pytorch"
   ]
  },
  {
   "cell_type": "code",
   "execution_count": 7,
   "metadata": {},
   "outputs": [
    {
     "data": {
      "text/plain": [
       "tensor([[0.0451, 0.6970, 0.3946, 0.9246, 0.3335, 0.3380, 0.5236, 0.1898, 0.0594,\n",
       "         0.9061]])"
      ]
     },
     "execution_count": 7,
     "metadata": {},
     "output_type": "execute_result"
    }
   ],
   "source": [
    "y.view([1,10]) # Reshaping method 'view' (by default doesn't do changes inplace !)"
   ]
  },
  {
   "cell_type": "code",
   "execution_count": 8,
   "metadata": {},
   "outputs": [
    {
     "name": "stdout",
     "output_type": "stream",
     "text": [
      "tensor([[0.0451, 0.6970, 0.3946, 0.9246, 0.3335],\n",
      "        [0.3380, 0.5236, 0.1898, 0.0594, 0.9061]])\n"
     ]
    }
   ],
   "source": [
    "print(y)"
   ]
  },
  {
   "cell_type": "markdown",
   "metadata": {},
   "source": [
    "Hence y doesnt change in memory"
   ]
  },
  {
   "cell_type": "code",
   "execution_count": 9,
   "metadata": {},
   "outputs": [],
   "source": [
    "y = y.view([1, 10])"
   ]
  },
  {
   "cell_type": "code",
   "execution_count": 10,
   "metadata": {},
   "outputs": [
    {
     "name": "stdout",
     "output_type": "stream",
     "text": [
      "tensor([[0.0451, 0.6970, 0.3946, 0.9246, 0.3335, 0.3380, 0.5236, 0.1898, 0.0594,\n",
      "         0.9061]])\n"
     ]
    }
   ],
   "source": [
    "print(y)"
   ]
  },
  {
   "cell_type": "code",
   "execution_count": 12,
   "metadata": {},
   "outputs": [
    {
     "data": {
      "text/plain": [
       "torch.Size([1, 10])"
      ]
     },
     "execution_count": 12,
     "metadata": {},
     "output_type": "execute_result"
    }
   ],
   "source": [
    "y.shape"
   ]
  },
  {
   "cell_type": "markdown",
   "metadata": {},
   "source": [
    "### We'll be starting with MNIST data set"
   ]
  },
  {
   "cell_type": "markdown",
   "metadata": {},
   "source": [
    "pip install torchvision"
   ]
  },
  {
   "cell_type": "code",
   "execution_count": 14,
   "metadata": {},
   "outputs": [],
   "source": [
    "import torchvision\n",
    "from torchvision import transforms, datasets"
   ]
  },
  {
   "cell_type": "markdown",
   "metadata": {},
   "source": [
    "Torchvision is a collection of data used for 'vision'\n",
    "Most of time is spent on converting, handling etc. data (Here its done for us)\n",
    "Also, batching. Guess what, DONE! \n",
    "We'll gradually increase the complexity going down the notebook.\n",
    "\n"
   ]
  },
  {
   "cell_type": "markdown",
   "metadata": {},
   "source": [
    "<font color='red'>MNIST is a handwritten digits 28x28 image data set.</font>"
   ]
  },
  {
   "cell_type": "code",
   "execution_count": 15,
   "metadata": {},
   "outputs": [],
   "source": [
    "train = datasets.MNIST(\"\", train=True, download=True,\n",
    "                      transform = transforms.Compose([transforms.ToTensor()]))\n",
    "\n",
    "test = datasets.MNIST(\"\", train=False, download=True,\n",
    "                     transform = transforms.Compose([transforms.ToTensor()]))\n"
   ]
  },
  {
   "cell_type": "code",
   "execution_count": 17,
   "metadata": {},
   "outputs": [],
   "source": [
    "trainset = torch.utils.data.DataLoader(train, batch_size=10, shuffle=True)\n",
    "testset = torch.utils.data.DataLoader(test, batch_size=10, shuffle=True)"
   ]
  },
  {
   "cell_type": "code",
   "execution_count": 19,
   "metadata": {},
   "outputs": [
    {
     "name": "stdout",
     "output_type": "stream",
     "text": [
      "[tensor([[[[0., 0., 0.,  ..., 0., 0., 0.],\n",
      "          [0., 0., 0.,  ..., 0., 0., 0.],\n",
      "          [0., 0., 0.,  ..., 0., 0., 0.],\n",
      "          ...,\n",
      "          [0., 0., 0.,  ..., 0., 0., 0.],\n",
      "          [0., 0., 0.,  ..., 0., 0., 0.],\n",
      "          [0., 0., 0.,  ..., 0., 0., 0.]]],\n",
      "\n",
      "\n",
      "        [[[0., 0., 0.,  ..., 0., 0., 0.],\n",
      "          [0., 0., 0.,  ..., 0., 0., 0.],\n",
      "          [0., 0., 0.,  ..., 0., 0., 0.],\n",
      "          ...,\n",
      "          [0., 0., 0.,  ..., 0., 0., 0.],\n",
      "          [0., 0., 0.,  ..., 0., 0., 0.],\n",
      "          [0., 0., 0.,  ..., 0., 0., 0.]]],\n",
      "\n",
      "\n",
      "        [[[0., 0., 0.,  ..., 0., 0., 0.],\n",
      "          [0., 0., 0.,  ..., 0., 0., 0.],\n",
      "          [0., 0., 0.,  ..., 0., 0., 0.],\n",
      "          ...,\n",
      "          [0., 0., 0.,  ..., 0., 0., 0.],\n",
      "          [0., 0., 0.,  ..., 0., 0., 0.],\n",
      "          [0., 0., 0.,  ..., 0., 0., 0.]]],\n",
      "\n",
      "\n",
      "        ...,\n",
      "\n",
      "\n",
      "        [[[0., 0., 0.,  ..., 0., 0., 0.],\n",
      "          [0., 0., 0.,  ..., 0., 0., 0.],\n",
      "          [0., 0., 0.,  ..., 0., 0., 0.],\n",
      "          ...,\n",
      "          [0., 0., 0.,  ..., 0., 0., 0.],\n",
      "          [0., 0., 0.,  ..., 0., 0., 0.],\n",
      "          [0., 0., 0.,  ..., 0., 0., 0.]]],\n",
      "\n",
      "\n",
      "        [[[0., 0., 0.,  ..., 0., 0., 0.],\n",
      "          [0., 0., 0.,  ..., 0., 0., 0.],\n",
      "          [0., 0., 0.,  ..., 0., 0., 0.],\n",
      "          ...,\n",
      "          [0., 0., 0.,  ..., 0., 0., 0.],\n",
      "          [0., 0., 0.,  ..., 0., 0., 0.],\n",
      "          [0., 0., 0.,  ..., 0., 0., 0.]]],\n",
      "\n",
      "\n",
      "        [[[0., 0., 0.,  ..., 0., 0., 0.],\n",
      "          [0., 0., 0.,  ..., 0., 0., 0.],\n",
      "          [0., 0., 0.,  ..., 0., 0., 0.],\n",
      "          ...,\n",
      "          [0., 0., 0.,  ..., 0., 0., 0.],\n",
      "          [0., 0., 0.,  ..., 0., 0., 0.],\n",
      "          [0., 0., 0.,  ..., 0., 0., 0.]]]]), tensor([9, 1, 6, 6, 9, 3, 9, 5, 5, 3])]\n"
     ]
    }
   ],
   "source": [
    "for data in trainset:\n",
    "    print(data)\n",
    "    break"
   ]
  },
  {
   "cell_type": "code",
   "execution_count": 23,
   "metadata": {},
   "outputs": [
    {
     "name": "stdout",
     "output_type": "stream",
     "text": [
      "tensor([[[0.0000, 0.0000, 0.0000, 0.0000, 0.0000, 0.0000, 0.0000, 0.0000,\n",
      "          0.0000, 0.0000, 0.0000, 0.0000, 0.0000, 0.0000, 0.0000, 0.0000,\n",
      "          0.0000, 0.0000, 0.0000, 0.0000, 0.0000, 0.0000, 0.0000, 0.0000,\n",
      "          0.0000, 0.0000, 0.0000, 0.0000],\n",
      "         [0.0000, 0.0000, 0.0000, 0.0000, 0.0000, 0.0000, 0.0000, 0.0000,\n",
      "          0.0000, 0.0000, 0.0000, 0.0000, 0.0000, 0.0000, 0.0000, 0.0000,\n",
      "          0.0000, 0.0000, 0.0000, 0.0000, 0.0000, 0.0000, 0.0000, 0.0000,\n",
      "          0.0000, 0.0000, 0.0000, 0.0000],\n",
      "         [0.0000, 0.0000, 0.0000, 0.0000, 0.0000, 0.0000, 0.0000, 0.0000,\n",
      "          0.0000, 0.0000, 0.0000, 0.0000, 0.0000, 0.0000, 0.0000, 0.0000,\n",
      "          0.0000, 0.0000, 0.0000, 0.0000, 0.0000, 0.0000, 0.0000, 0.0000,\n",
      "          0.0000, 0.0000, 0.0000, 0.0000],\n",
      "         [0.0000, 0.0000, 0.0000, 0.0000, 0.0000, 0.0000, 0.0000, 0.0000,\n",
      "          0.0000, 0.0000, 0.0000, 0.0000, 0.0000, 0.0000, 0.0000, 0.0000,\n",
      "          0.0000, 0.0000, 0.0000, 0.0000, 0.0000, 0.0000, 0.0000, 0.0000,\n",
      "          0.0000, 0.0000, 0.0000, 0.0000],\n",
      "         [0.0000, 0.0000, 0.0000, 0.0000, 0.0000, 0.0000, 0.0000, 0.0000,\n",
      "          0.0000, 0.0000, 0.0000, 0.0000, 0.0000, 0.0000, 0.0000, 0.0000,\n",
      "          0.0000, 0.0000, 0.0000, 0.0000, 0.0000, 0.0000, 0.0000, 0.0000,\n",
      "          0.0000, 0.0000, 0.0000, 0.0000],\n",
      "         [0.0000, 0.0000, 0.0000, 0.0000, 0.0000, 0.0000, 0.0000, 0.0000,\n",
      "          0.0000, 0.0000, 0.0000, 0.0000, 0.0000, 0.0000, 0.0000, 0.0000,\n",
      "          0.0000, 0.0000, 0.0000, 0.0000, 0.0000, 0.0000, 0.0000, 0.0000,\n",
      "          0.0000, 0.0000, 0.0000, 0.0000],\n",
      "         [0.0000, 0.0000, 0.0000, 0.0000, 0.0000, 0.0000, 0.0000, 0.0000,\n",
      "          0.0000, 0.0000, 0.0000, 0.0000, 0.2235, 0.7647, 0.9961, 1.0000,\n",
      "          0.5294, 0.0471, 0.0000, 0.0000, 0.0000, 0.0000, 0.0000, 0.0000,\n",
      "          0.0000, 0.0000, 0.0000, 0.0000],\n",
      "         [0.0000, 0.0000, 0.0000, 0.0000, 0.0000, 0.0000, 0.0000, 0.0000,\n",
      "          0.0000, 0.0000, 0.0000, 0.5137, 0.9176, 0.9922, 0.9922, 0.9922,\n",
      "          0.9922, 0.3922, 0.0000, 0.0000, 0.0000, 0.0000, 0.0000, 0.0000,\n",
      "          0.0000, 0.0000, 0.0000, 0.0000],\n",
      "         [0.0000, 0.0000, 0.0000, 0.0000, 0.0000, 0.0000, 0.0000, 0.0000,\n",
      "          0.0000, 0.0000, 0.1608, 0.9412, 0.9922, 0.6980, 0.4471, 0.6000,\n",
      "          0.9922, 0.9804, 0.2824, 0.0000, 0.0000, 0.0000, 0.0000, 0.0000,\n",
      "          0.0000, 0.0000, 0.0000, 0.0000],\n",
      "         [0.0000, 0.0000, 0.0000, 0.0000, 0.0000, 0.0000, 0.0000, 0.0000,\n",
      "          0.0000, 0.0000, 0.5843, 0.9922, 0.8118, 0.0431, 0.0000, 0.2863,\n",
      "          0.9882, 0.9922, 0.4667, 0.0000, 0.0000, 0.0000, 0.0000, 0.0000,\n",
      "          0.0000, 0.0000, 0.0000, 0.0000],\n",
      "         [0.0000, 0.0000, 0.0000, 0.0000, 0.0000, 0.0000, 0.0000, 0.0000,\n",
      "          0.0000, 0.0941, 0.9686, 0.9882, 0.7137, 0.0000, 0.0000, 0.7216,\n",
      "          0.9922, 0.9922, 0.0902, 0.0000, 0.0000, 0.0000, 0.0000, 0.0000,\n",
      "          0.0000, 0.0000, 0.0000, 0.0000],\n",
      "         [0.0000, 0.0000, 0.0000, 0.0000, 0.0000, 0.0000, 0.0000, 0.0000,\n",
      "          0.0000, 0.1059, 0.9922, 0.9490, 0.2235, 0.0000, 0.0000, 0.3882,\n",
      "          0.9922, 0.9922, 0.2118, 0.0824, 0.0000, 0.0000, 0.0000, 0.0000,\n",
      "          0.0000, 0.0000, 0.0000, 0.0000],\n",
      "         [0.0000, 0.0000, 0.0000, 0.0000, 0.0000, 0.0000, 0.0000, 0.0000,\n",
      "          0.0000, 0.0980, 0.9765, 0.9922, 0.5490, 0.0118, 0.0000, 0.3882,\n",
      "          0.9922, 0.9922, 0.9451, 0.6392, 0.0000, 0.0000, 0.0000, 0.0000,\n",
      "          0.0000, 0.0000, 0.0000, 0.0000],\n",
      "         [0.0000, 0.0000, 0.0000, 0.0000, 0.0000, 0.0000, 0.0000, 0.0000,\n",
      "          0.0000, 0.0000, 0.5922, 0.9922, 0.9922, 0.4275, 0.0510, 0.7020,\n",
      "          0.9922, 0.9922, 0.9647, 0.3529, 0.0000, 0.0000, 0.0000, 0.0000,\n",
      "          0.0000, 0.0000, 0.0000, 0.0000],\n",
      "         [0.0000, 0.0000, 0.0000, 0.0000, 0.0000, 0.0000, 0.0000, 0.0000,\n",
      "          0.0000, 0.0000, 0.1647, 0.9333, 0.9922, 0.9255, 0.7020, 0.9922,\n",
      "          0.9922, 0.9922, 0.5216, 0.0000, 0.0000, 0.0000, 0.0000, 0.0000,\n",
      "          0.0000, 0.0000, 0.0000, 0.0000],\n",
      "         [0.0000, 0.0000, 0.0000, 0.0000, 0.0000, 0.0000, 0.0000, 0.0000,\n",
      "          0.0000, 0.0000, 0.0000, 0.2078, 0.9255, 0.9922, 0.9922, 0.9922,\n",
      "          0.9922, 0.6980, 0.0235, 0.0000, 0.0000, 0.0000, 0.0000, 0.0000,\n",
      "          0.0000, 0.0000, 0.0000, 0.0000],\n",
      "         [0.0000, 0.0000, 0.0000, 0.0000, 0.0000, 0.0000, 0.0000, 0.0000,\n",
      "          0.0000, 0.0000, 0.0000, 0.0000, 0.1333, 0.5490, 0.9922, 0.9922,\n",
      "          0.9922, 0.2431, 0.0000, 0.0000, 0.0000, 0.0000, 0.0000, 0.0000,\n",
      "          0.0000, 0.0000, 0.0000, 0.0000],\n",
      "         [0.0000, 0.0000, 0.0000, 0.0000, 0.0000, 0.0000, 0.0000, 0.0000,\n",
      "          0.0000, 0.0000, 0.0000, 0.0000, 0.0000, 0.0235, 0.9922, 0.9922,\n",
      "          0.9020, 0.1059, 0.0000, 0.0000, 0.0000, 0.0000, 0.0000, 0.0000,\n",
      "          0.0000, 0.0000, 0.0000, 0.0000],\n",
      "         [0.0000, 0.0000, 0.0000, 0.0000, 0.0000, 0.0000, 0.0000, 0.0000,\n",
      "          0.0000, 0.0000, 0.0000, 0.0000, 0.0000, 0.3333, 0.9922, 0.9922,\n",
      "          0.8314, 0.0000, 0.0000, 0.0000, 0.0000, 0.0000, 0.0000, 0.0000,\n",
      "          0.0000, 0.0000, 0.0000, 0.0000],\n",
      "         [0.0000, 0.0000, 0.0000, 0.0000, 0.0000, 0.0000, 0.0000, 0.0000,\n",
      "          0.0000, 0.0000, 0.0000, 0.0000, 0.0000, 0.4314, 0.9922, 0.9922,\n",
      "          0.4510, 0.0000, 0.0000, 0.0000, 0.0000, 0.0000, 0.0000, 0.0000,\n",
      "          0.0000, 0.0000, 0.0000, 0.0000],\n",
      "         [0.0000, 0.0000, 0.0000, 0.0000, 0.0000, 0.0000, 0.0000, 0.0000,\n",
      "          0.0000, 0.0000, 0.0000, 0.0000, 0.0000, 0.7176, 0.9922, 0.9922,\n",
      "          0.1333, 0.0000, 0.0000, 0.0000, 0.0000, 0.0000, 0.0000, 0.0000,\n",
      "          0.0000, 0.0000, 0.0000, 0.0000],\n",
      "         [0.0000, 0.0000, 0.0000, 0.0000, 0.0000, 0.0000, 0.0000, 0.0000,\n",
      "          0.0000, 0.0000, 0.0000, 0.0000, 0.2235, 0.9765, 0.9922, 0.9608,\n",
      "          0.0157, 0.0000, 0.0000, 0.0000, 0.0000, 0.0000, 0.0000, 0.0000,\n",
      "          0.0000, 0.0000, 0.0000, 0.0000],\n",
      "         [0.0000, 0.0000, 0.0000, 0.0000, 0.0000, 0.0000, 0.0000, 0.0000,\n",
      "          0.0000, 0.0000, 0.0000, 0.0000, 0.2471, 0.9922, 0.9922, 0.5020,\n",
      "          0.0000, 0.0000, 0.0000, 0.0000, 0.0000, 0.0000, 0.0000, 0.0000,\n",
      "          0.0000, 0.0000, 0.0000, 0.0000],\n",
      "         [0.0000, 0.0000, 0.0000, 0.0000, 0.0000, 0.0000, 0.0000, 0.0000,\n",
      "          0.0000, 0.0000, 0.0000, 0.0000, 0.5961, 0.9922, 0.9020, 0.1137,\n",
      "          0.0000, 0.0000, 0.0000, 0.0000, 0.0000, 0.0000, 0.0000, 0.0000,\n",
      "          0.0000, 0.0000, 0.0000, 0.0000],\n",
      "         [0.0000, 0.0000, 0.0000, 0.0000, 0.0000, 0.0000, 0.0000, 0.0000,\n",
      "          0.0000, 0.0000, 0.0000, 0.0000, 0.6510, 0.9922, 0.7882, 0.0000,\n",
      "          0.0000, 0.0000, 0.0000, 0.0000, 0.0000, 0.0000, 0.0000, 0.0000,\n",
      "          0.0000, 0.0000, 0.0000, 0.0000],\n",
      "         [0.0000, 0.0000, 0.0000, 0.0000, 0.0000, 0.0000, 0.0000, 0.0000,\n",
      "          0.0000, 0.0000, 0.0000, 0.0510, 0.9333, 0.9922, 0.4588, 0.0000,\n",
      "          0.0000, 0.0000, 0.0000, 0.0000, 0.0000, 0.0000, 0.0000, 0.0000,\n",
      "          0.0000, 0.0000, 0.0000, 0.0000],\n",
      "         [0.0000, 0.0000, 0.0000, 0.0000, 0.0000, 0.0000, 0.0000, 0.0000,\n",
      "          0.0000, 0.0000, 0.0000, 0.0000, 0.0000, 0.0000, 0.0000, 0.0000,\n",
      "          0.0000, 0.0000, 0.0000, 0.0000, 0.0000, 0.0000, 0.0000, 0.0000,\n",
      "          0.0000, 0.0000, 0.0000, 0.0000],\n",
      "         [0.0000, 0.0000, 0.0000, 0.0000, 0.0000, 0.0000, 0.0000, 0.0000,\n",
      "          0.0000, 0.0000, 0.0000, 0.0000, 0.0000, 0.0000, 0.0000, 0.0000,\n",
      "          0.0000, 0.0000, 0.0000, 0.0000, 0.0000, 0.0000, 0.0000, 0.0000,\n",
      "          0.0000, 0.0000, 0.0000, 0.0000]]])\n",
      "tensor(9)\n"
     ]
    }
   ],
   "source": [
    "x, y = data[0][0], data[1][0]\n",
    "\n",
    "print(x)\n",
    "print(y)"
   ]
  },
  {
   "cell_type": "code",
   "execution_count": 24,
   "metadata": {},
   "outputs": [],
   "source": [
    "import matplotlib.pyplot as plt"
   ]
  },
  {
   "cell_type": "code",
   "execution_count": 25,
   "metadata": {},
   "outputs": [
    {
     "name": "stdout",
     "output_type": "stream",
     "text": [
      "torch.Size([1, 28, 28])\n"
     ]
    }
   ],
   "source": [
    "print(data[0][0].shape)"
   ]
  },
  {
   "cell_type": "code",
   "execution_count": 28,
   "metadata": {},
   "outputs": [
    {
     "data": {
      "image/png": "[encoded data removed]",
      "text/plain": [
       "<Figure size 432x288 with 1 Axes>"
      ]
     },
     "metadata": {
      "needs_background": "light"
     },
     "output_type": "display_data"
    }
   ],
   "source": [
    "plt.imshow(data[0][0].view(28,28))  # 'view' is for reshaping!\n",
    "plt.show()"
   ]
  },
  {
   "cell_type": "markdown",
   "metadata": {},
   "source": [
    "#### Balancing \n",
    "If the model can find a shorter path to decreasing the loss with an optimizer it has no idea till what point to do so ! <br> What if 60% of our data is number 6, its going to get optmized for number 6 and we wont be able to get out of that hole <br> Hence the data need to be balanced."
   ]
  },
  {
   "cell_type": "code",
   "execution_count": 32,
   "metadata": {},
   "outputs": [
    {
     "name": "stdout",
     "output_type": "stream",
     "text": [
      "{0: 5923, 1: 6742, 2: 5958, 3: 6131, 4: 5842, 5: 5421, 6: 5918, 7: 6265, 8: 5851, 9: 5949}\n"
     ]
    }
   ],
   "source": [
    "total = 0\n",
    "counter_dict = {0:0,1:0,2:0,3:0,4:0,5:0,6:0,7:0,8:0,9:0}\n",
    "for data in trainset:\n",
    "    Xs, ys = data\n",
    "    for y in ys:\n",
    "        counter_dict[int(y)] += 1\n",
    "        total += 1\n",
    "print(counter_dict)"
   ]
  },
  {
   "cell_type": "code",
   "execution_count": 33,
   "metadata": {},
   "outputs": [
    {
     "name": "stdout",
     "output_type": "stream",
     "text": [
      "0: 9.871666666666666\n",
      "1: 11.236666666666666\n",
      "2: 9.93\n",
      "3: 10.218333333333334\n",
      "4: 9.736666666666666\n",
      "5: 9.035\n",
      "6: 9.863333333333333\n",
      "7: 10.441666666666666\n",
      "8: 9.751666666666667\n",
      "9: 9.915000000000001\n"
     ]
    }
   ],
   "source": [
    "for i in counter_dict:\n",
    "    print(f\"{i}: {counter_dict[i]/total*100}\")"
   ]
  },
  {
   "cell_type": "code",
   "execution_count": 39,
   "metadata": {},
   "outputs": [
    {
     "data": {
      "image/png": "[encoded data removed]",
      "text/plain": [
       "<Figure size 432x288 with 1 Axes>"
      ]
     },
     "metadata": {
      "needs_background": "light"
     },
     "output_type": "display_data"
    }
   ],
   "source": [
    "plt.bar(x=[0,1,2,3,4,5,6,7,8,9], height = [counter_dict[0],counter_dict[1],counter_dict[2],counter_dict[3],counter_dict[4],counter_dict[5],counter_dict[6],counter_dict[7],counter_dict[8],counter_dict[9]])\n",
    "plt.show()\n",
    "        "
   ]
  },
  {
   "cell_type": "markdown",
   "metadata": {},
   "source": [
    "#### Hence the data seems reasonably balanced."
   ]
  },
  {
   "cell_type": "markdown",
   "metadata": {},
   "source": [
    "### <u>Building the Neural Network</u>"
   ]
  },
  {
   "cell_type": "code",
   "execution_count": 30,
   "metadata": {},
   "outputs": [],
   "source": [
    "import torch.nn as nn \n",
    "import torch.nn.functional as F"
   ]
  },
  {
   "cell_type": "code",
   "execution_count": 35,
   "metadata": {},
   "outputs": [
    {
     "name": "stdout",
     "output_type": "stream",
     "text": [
      "Net(\n",
      "  (fc1): Linear(in_features=784, out_features=64, bias=True)\n",
      "  (fc2): Linear(in_features=64, out_features=64, bias=True)\n",
      "  (fc3): Linear(in_features=64, out_features=64, bias=True)\n",
      "  (fc4): Linear(in_features=64, out_features=10, bias=True)\n",
      ")\n"
     ]
    }
   ],
   "source": [
    "class Net(nn.Module):\n",
    "    def __init__(self):\n",
    "        super().__init__() # without this init method is not run!\n",
    "        \n",
    "        #we'll defien the FC layers.\n",
    "        \n",
    "        self.fc1 = nn.Linear(784, 64)    #(input, output)\n",
    "        # 784 here means 28*28 since images are 28*28 so these images are flattened an inputter here.\n",
    "        # Output can be anything we want.\n",
    "        self.fc2 = nn.Linear(64, 64) \n",
    "        self.fc3 = nn.Linear(64, 64) \n",
    "        self.fc4 = nn.Linear(64, 10) # Since 10 classes.\n",
    "        \n",
    "        \n",
    "    def forward(self, x):\n",
    "        x = F.relu(self.fc1(x))\n",
    "        x = F.relu(self.fc2(x))\n",
    "        x = F.relu(self.fc3(x))\n",
    "        x = self.fc4(x)\n",
    "        \n",
    "        return F.log_softmax(x, dim=1)         \n",
    "        \n",
    "        \n",
    "net = Net()\n",
    "print(net)"
   ]
  },
  {
   "cell_type": "code",
   "execution_count": 42,
   "metadata": {},
   "outputs": [],
   "source": [
    "X = torch.rand((28,28))\n",
    "X = X.view(-1,28*28)  #-1 or 1 means that input shape unknown. (of any size)"
   ]
  },
  {
   "cell_type": "code",
   "execution_count": 43,
   "metadata": {},
   "outputs": [
    {
     "data": {
      "text/plain": [
       "tensor([[1.1996e-01, 5.7662e-01, 8.0757e-01, 8.0259e-02, 3.7951e-02, 2.1760e-01,\n",
       "         5.1958e-01, 1.4616e-02, 8.6496e-01, 5.5673e-02, 5.6493e-01, 2.7698e-02,\n",
       "         5.3799e-01, 1.7502e-01, 2.2319e-01, 8.9522e-01, 1.4152e-01, 7.8059e-02,\n",
       "         4.1556e-01, 9.1688e-01, 1.3135e-01, 6.4972e-01, 8.3248e-01, 7.6585e-01,\n",
       "         7.5835e-01, 5.8375e-01, 7.6682e-01, 8.2911e-01, 6.5815e-01, 3.7794e-01,\n",
       "         7.8334e-01, 3.2559e-01, 1.1835e-01, 7.9544e-01, 7.5428e-01, 4.5036e-01,\n",
       "         6.9637e-01, 6.3201e-01, 1.7142e-01, 8.1698e-01, 9.9995e-02, 5.7623e-01,\n",
       "         7.5837e-01, 4.9763e-01, 1.4160e-01, 1.0989e-01, 8.5063e-01, 9.2802e-01,\n",
       "         9.4399e-01, 3.4889e-01, 7.0294e-01, 7.3039e-02, 7.5786e-02, 2.1304e-01,\n",
       "         7.0842e-01, 7.6370e-01, 9.1074e-01, 9.2559e-01, 6.3729e-03, 6.4435e-02,\n",
       "         8.5118e-01, 7.9754e-01, 6.6919e-01, 3.7018e-01, 5.7798e-01, 6.9077e-01,\n",
       "         8.5339e-01, 8.6407e-01, 3.3075e-01, 4.9033e-01, 4.5128e-01, 1.0061e-01,\n",
       "         9.1077e-01, 3.3167e-01, 7.5549e-02, 1.2076e-01, 9.5490e-01, 7.1317e-01,\n",
       "         9.6623e-01, 1.5484e-02, 7.6237e-01, 5.8211e-01, 7.7933e-01, 6.1531e-01,\n",
       "         9.5108e-01, 1.0229e-01, 2.0577e-02, 5.9315e-01, 1.0372e-01, 6.6455e-01,\n",
       "         8.8920e-01, 3.3478e-01, 7.3480e-01, 8.0107e-01, 8.8886e-01, 3.7808e-01,\n",
       "         5.7713e-01, 6.3715e-01, 2.7732e-01, 5.7405e-03, 7.3560e-01, 4.0437e-02,\n",
       "         6.6016e-01, 3.1946e-01, 1.7838e-01, 2.9592e-01, 6.4331e-01, 7.4080e-01,\n",
       "         3.5993e-01, 2.5775e-01, 5.4044e-01, 1.4253e-01, 1.3520e-01, 3.0574e-01,\n",
       "         6.7544e-01, 6.4686e-01, 8.0215e-01, 2.0154e-01, 4.5161e-01, 8.8941e-01,\n",
       "         2.4091e-01, 5.2223e-01, 1.9614e-01, 4.4610e-01, 2.1627e-01, 7.6954e-01,\n",
       "         3.1604e-01, 1.2717e-01, 8.1534e-01, 8.1523e-01, 1.0128e-01, 3.9081e-01,\n",
       "         3.7209e-01, 8.7814e-01, 3.2085e-01, 5.4065e-01, 1.1456e-01, 6.2756e-01,\n",
       "         3.4767e-01, 8.0046e-01, 2.4542e-01, 5.9736e-01, 3.2768e-02, 6.0495e-02,\n",
       "         5.3093e-01, 5.0546e-01, 8.7015e-01, 7.9156e-02, 9.7603e-02, 9.3054e-01,\n",
       "         1.2410e-01, 2.4631e-01, 4.0971e-01, 4.5127e-01, 8.7509e-01, 1.0033e-01,\n",
       "         4.6536e-02, 5.4095e-01, 3.8864e-01, 4.7985e-01, 9.3925e-01, 3.8213e-01,\n",
       "         3.1605e-01, 4.9926e-01, 7.5393e-01, 6.1225e-01, 9.4173e-01, 5.0707e-01,\n",
       "         9.2652e-01, 3.8583e-01, 4.1764e-01, 9.3242e-01, 4.8178e-01, 8.2812e-01,\n",
       "         5.8710e-01, 6.4860e-01, 2.3834e-01, 1.8961e-01, 9.1222e-01, 5.2228e-01,\n",
       "         3.9242e-01, 9.3289e-01, 4.2691e-01, 5.6581e-01, 5.8676e-01, 6.5640e-01,\n",
       "         6.0714e-01, 8.8396e-01, 1.6379e-01, 2.7214e-01, 8.7725e-02, 7.3425e-01,\n",
       "         3.1842e-01, 6.9031e-01, 9.2945e-01, 7.6711e-01, 8.2991e-01, 8.1967e-01,\n",
       "         6.2551e-01, 9.2234e-01, 4.8672e-02, 2.9239e-01, 3.0670e-01, 8.5285e-01,\n",
       "         8.2082e-01, 5.5202e-01, 3.5506e-01, 8.1896e-01, 8.4111e-01, 3.6573e-01,\n",
       "         8.5905e-01, 6.7535e-01, 5.8258e-01, 6.1376e-01, 7.7265e-01, 5.5475e-01,\n",
       "         5.9348e-01, 8.9094e-01, 6.0947e-02, 3.8578e-01, 1.2564e-01, 6.6944e-01,\n",
       "         6.0513e-01, 2.3479e-01, 2.9481e-01, 4.9780e-01, 5.6036e-01, 9.5907e-01,\n",
       "         7.9207e-01, 9.5325e-01, 4.3628e-01, 2.5716e-01, 4.8371e-01, 2.9878e-01,\n",
       "         3.6566e-01, 8.3169e-01, 1.2064e-01, 5.9635e-01, 1.6164e-01, 6.8210e-01,\n",
       "         1.3952e-02, 5.5804e-01, 9.7083e-01, 2.7281e-01, 6.2178e-01, 4.5677e-01,\n",
       "         7.3270e-01, 9.7397e-01, 8.7581e-01, 3.4914e-01, 4.5788e-01, 2.9761e-01,\n",
       "         5.2049e-01, 8.6460e-01, 1.9267e-01, 5.4869e-01, 5.1768e-01, 3.7357e-01,\n",
       "         5.6137e-01, 3.7908e-01, 9.2501e-01, 9.3715e-01, 3.0716e-01, 4.8926e-01,\n",
       "         3.1813e-02, 8.0669e-01, 5.1918e-01, 7.8907e-01, 4.9930e-01, 1.6327e-01,\n",
       "         2.1002e-01, 4.7564e-01, 3.2164e-01, 5.2179e-01, 4.1313e-01, 9.9080e-02,\n",
       "         8.8489e-02, 3.4140e-01, 3.4469e-01, 8.2926e-01, 7.1839e-01, 9.7252e-01,\n",
       "         6.2710e-01, 3.9712e-01, 9.2780e-01, 2.6660e-01, 9.0077e-01, 1.1484e-01,\n",
       "         4.5806e-01, 7.4751e-01, 1.8840e-01, 8.1123e-01, 8.9876e-02, 7.5212e-01,\n",
       "         1.9675e-01, 6.4866e-02, 7.1587e-01, 7.4258e-01, 4.4893e-01, 2.2155e-01,\n",
       "         6.1876e-01, 5.1179e-01, 1.4836e-01, 2.9762e-01, 7.7925e-01, 7.3920e-01,\n",
       "         8.3040e-01, 1.5945e-01, 1.7606e-01, 3.9089e-01, 9.8650e-01, 8.5787e-02,\n",
       "         8.3723e-01, 4.5059e-02, 8.1727e-01, 7.0110e-01, 4.7670e-01, 5.3276e-01,\n",
       "         1.7075e-01, 7.5468e-01, 8.9068e-01, 9.6469e-01, 1.0127e-01, 8.4173e-01,\n",
       "         1.0541e-01, 4.4276e-01, 2.1415e-01, 1.6806e-01, 3.1176e-01, 8.5369e-01,\n",
       "         2.0921e-01, 3.4766e-01, 7.8972e-01, 1.3560e-01, 2.9091e-01, 8.4724e-01,\n",
       "         9.2715e-01, 6.9767e-02, 3.2906e-02, 9.0394e-01, 6.9528e-01, 8.3214e-01,\n",
       "         4.5574e-01, 9.1387e-02, 7.3618e-01, 7.4824e-01, 6.7498e-02, 5.3647e-01,\n",
       "         7.8047e-01, 4.4894e-01, 6.6828e-01, 4.5346e-01, 6.7995e-01, 6.9428e-01,\n",
       "         5.8471e-01, 9.9298e-01, 9.0135e-01, 7.2306e-01, 8.8175e-01, 9.8234e-01,\n",
       "         3.6710e-01, 9.6702e-01, 3.0833e-04, 6.6403e-01, 7.3517e-01, 9.7453e-01,\n",
       "         8.8927e-01, 4.3255e-01, 5.3531e-01, 6.8038e-01, 5.3268e-01, 7.7926e-01,\n",
       "         4.6435e-01, 5.7608e-01, 2.9422e-01, 5.2746e-01, 4.7860e-01, 8.6004e-02,\n",
       "         5.7809e-01, 7.3931e-01, 5.6640e-01, 5.8036e-01, 6.6839e-01, 5.6210e-01,\n",
       "         9.1416e-01, 6.5737e-02, 5.9179e-01, 5.8841e-01, 1.7173e-01, 7.6374e-01,\n",
       "         6.9305e-01, 1.3701e-01, 2.5807e-01, 5.6127e-01, 7.1890e-01, 6.7828e-01,\n",
       "         2.0921e-01, 3.2908e-01, 6.0041e-01, 5.3914e-01, 3.6175e-01, 6.7179e-01,\n",
       "         3.2845e-01, 5.1786e-01, 6.5222e-01, 6.0319e-01, 1.7639e-01, 4.7109e-01,\n",
       "         3.2465e-01, 1.1820e-01, 1.5223e-01, 3.0150e-01, 4.5208e-01, 9.0639e-01,\n",
       "         3.6712e-01, 3.7278e-01, 5.4043e-01, 1.7116e-01, 9.5787e-01, 5.5456e-02,\n",
       "         2.0781e-02, 3.7823e-01, 5.0755e-01, 7.6370e-01, 9.7335e-01, 7.2017e-01,\n",
       "         7.7467e-01, 3.0446e-02, 4.4237e-01, 3.5760e-01, 8.8064e-01, 8.6569e-01,\n",
       "         8.9007e-01, 6.5858e-01, 3.1450e-01, 9.1751e-01, 7.6694e-01, 4.7441e-01,\n",
       "         1.9682e-01, 7.6817e-01, 5.3341e-01, 2.6949e-02, 4.1167e-01, 5.9257e-01,\n",
       "         1.3975e-01, 6.9919e-01, 9.8478e-03, 9.0442e-01, 9.7685e-01, 3.6537e-01,\n",
       "         4.8491e-01, 8.2709e-01, 2.4663e-01, 9.3588e-01, 1.3475e-01, 5.0890e-01,\n",
       "         8.7862e-01, 3.0189e-01, 3.2367e-02, 6.6838e-01, 8.3259e-01, 4.5325e-01,\n",
       "         7.9972e-01, 2.1244e-01, 7.7440e-01, 1.7024e-01, 3.6052e-01, 3.7048e-02,\n",
       "         8.2114e-01, 7.1278e-01, 3.8094e-02, 5.3026e-01, 5.0974e-02, 4.2294e-02,\n",
       "         6.7957e-01, 8.4493e-01, 2.1105e-01, 5.4849e-01, 8.9903e-01, 9.1792e-02,\n",
       "         3.9579e-01, 8.9006e-01, 1.8039e-01, 9.5163e-02, 6.6078e-01, 8.7142e-01,\n",
       "         7.6878e-01, 8.3691e-01, 8.3692e-01, 5.0259e-01, 5.8722e-01, 7.3125e-03,\n",
       "         9.8991e-01, 4.3972e-01, 8.1650e-01, 6.7463e-01, 5.7338e-01, 4.3538e-01,\n",
       "         2.4568e-01, 9.1597e-01, 2.7644e-02, 8.9721e-01, 6.3620e-01, 6.7345e-01,\n",
       "         3.2665e-01, 5.6356e-01, 4.4365e-01, 6.1417e-01, 2.2695e-01, 1.2169e-01,\n",
       "         1.4295e-01, 6.2069e-03, 7.7614e-01, 5.0872e-01, 2.9735e-01, 6.9682e-01,\n",
       "         6.0102e-01, 2.6749e-01, 1.8205e-01, 8.1750e-01, 9.2423e-04, 8.8071e-02,\n",
       "         7.5313e-01, 1.7988e-01, 7.9110e-01, 9.7063e-01, 5.0049e-01, 4.6793e-01,\n",
       "         2.6751e-01, 8.5325e-01, 9.9863e-01, 3.3006e-01, 2.6528e-02, 4.7608e-01,\n",
       "         5.2691e-01, 3.4620e-01, 8.2921e-01, 3.4396e-01, 6.5478e-01, 7.8240e-01,\n",
       "         9.4021e-01, 5.5269e-01, 5.5227e-02, 7.7616e-01, 7.0964e-01, 8.4990e-01,\n",
       "         1.1447e-01, 9.2682e-01, 7.5371e-01, 9.1491e-01, 5.2481e-01, 7.3726e-01,\n",
       "         4.4958e-01, 2.5472e-01, 1.9204e-02, 2.9060e-01, 4.6012e-01, 3.6649e-01,\n",
       "         4.2228e-01, 3.6689e-01, 2.0786e-01, 4.5583e-01, 1.4809e-01, 3.5978e-01,\n",
       "         4.2593e-01, 3.9501e-01, 7.1799e-02, 3.4834e-02, 7.6733e-01, 7.5239e-01,\n",
       "         9.9275e-01, 1.1252e-01, 4.1479e-01, 2.4703e-01, 1.6879e-01, 9.3526e-01,\n",
       "         2.8424e-01, 1.9677e-01, 2.0807e-01, 4.5709e-01, 9.9413e-01, 5.8915e-02,\n",
       "         6.1051e-01, 7.5133e-01, 7.0715e-01, 5.5890e-01, 6.9019e-01, 3.1560e-01,\n",
       "         3.6042e-01, 4.2348e-01, 7.7738e-01, 5.7638e-01, 8.2836e-01, 4.6239e-01,\n",
       "         1.2665e-01, 4.6899e-01, 6.2535e-01, 7.9013e-01, 3.6429e-01, 6.2533e-01,\n",
       "         2.8843e-01, 2.1016e-01, 3.1686e-01, 5.2185e-01, 7.9734e-01, 6.1176e-01,\n",
       "         6.1701e-01, 6.4355e-01, 7.9599e-01, 4.4103e-01, 1.4594e-01, 8.5538e-01,\n",
       "         7.3151e-01, 7.8951e-01, 8.8408e-01, 9.1488e-01, 1.8929e-01, 1.9181e-01,\n",
       "         6.0365e-01, 9.9280e-01, 6.7569e-01, 3.0682e-01, 1.1717e-01, 6.6250e-01,\n",
       "         5.4764e-01, 9.4925e-01, 1.3548e-01, 6.7961e-01, 5.9890e-01, 7.4020e-01,\n",
       "         1.6175e-01, 3.2597e-01, 9.4543e-01, 3.0080e-01, 3.8961e-01, 7.9980e-01,\n",
       "         9.7895e-01, 5.2248e-02, 2.3667e-01, 7.7806e-02, 2.7680e-01, 7.0256e-01,\n",
       "         6.6707e-01, 6.8147e-01, 4.3027e-01, 4.3264e-01, 2.7390e-01, 2.6218e-01,\n",
       "         8.9079e-01, 5.6766e-02, 9.0003e-01, 2.2417e-01, 7.0600e-01, 9.9652e-01,\n",
       "         4.1303e-01, 9.2876e-01, 1.2806e-01, 5.4839e-01, 4.4673e-01, 9.9049e-01,\n",
       "         2.8115e-01, 6.9203e-01, 4.6666e-01, 6.5923e-01, 9.9073e-01, 6.8923e-01,\n",
       "         9.6426e-02, 3.7529e-01, 5.7270e-01, 1.9231e-01, 7.9016e-01, 9.6821e-01,\n",
       "         6.8946e-01, 9.8620e-01, 6.9564e-01, 8.3445e-01, 6.2119e-01, 5.6190e-02,\n",
       "         9.8444e-01, 1.7845e-01, 4.7150e-01, 9.2179e-01, 9.0678e-01, 7.8198e-01,\n",
       "         4.2370e-02, 4.0934e-01, 8.4401e-02, 3.5511e-01, 5.4026e-01, 8.0007e-01,\n",
       "         2.4862e-02, 4.0936e-01, 6.6715e-01, 5.1421e-01, 7.3734e-01, 4.3483e-01,\n",
       "         3.1355e-01, 2.2573e-02, 5.5169e-01, 5.9670e-01, 5.2094e-01, 2.2499e-01,\n",
       "         5.6292e-01, 8.1902e-01, 9.4116e-01, 3.1580e-01, 4.6601e-01, 7.6003e-01,\n",
       "         5.0136e-01, 4.0664e-01, 7.7102e-01, 7.4235e-01, 7.9029e-01, 6.0074e-01,\n",
       "         6.7906e-01, 3.5553e-01, 3.0831e-02, 8.5397e-01, 3.0832e-01, 8.2468e-01,\n",
       "         9.8689e-01, 6.9674e-01, 8.9310e-01, 7.6543e-01, 2.6986e-01, 8.5827e-01,\n",
       "         7.4711e-01, 9.9087e-01, 8.2142e-01, 3.5121e-01, 5.9913e-01, 2.0259e-01,\n",
       "         9.0142e-01, 5.6047e-01, 3.8935e-01, 6.1340e-01, 2.2396e-01, 4.0553e-01,\n",
       "         5.4859e-01, 7.1218e-02, 1.3852e-01, 3.7409e-01, 9.2772e-02, 3.6091e-01,\n",
       "         6.6660e-01, 6.3735e-01, 6.3685e-01, 9.1749e-01, 8.0154e-01, 7.3867e-01,\n",
       "         9.8736e-01, 7.8946e-01, 5.8995e-01, 5.4639e-01, 5.5211e-01, 6.6182e-01,\n",
       "         5.0692e-02, 1.1898e-01, 7.0055e-01, 7.3645e-02, 3.8229e-01, 1.0284e-01,\n",
       "         2.2330e-01, 2.7657e-01, 5.1116e-01, 6.6880e-01, 6.5252e-01, 8.8189e-01,\n",
       "         3.5734e-01, 9.0109e-01, 2.2626e-01, 6.5973e-01, 9.2851e-01, 4.3221e-01,\n",
       "         9.2575e-01, 8.8021e-01, 3.8492e-01, 1.6505e-01, 6.0971e-01, 2.7693e-01,\n",
       "         1.3224e-02, 4.5368e-01, 7.4686e-01, 8.2283e-01]])"
      ]
     },
     "execution_count": 43,
     "metadata": {},
     "output_type": "execute_result"
    }
   ],
   "source": [
    "X"
   ]
  },
  {
   "cell_type": "code",
   "execution_count": 44,
   "metadata": {},
   "outputs": [],
   "source": [
    "output = net(X)"
   ]
  },
  {
   "cell_type": "code",
   "execution_count": 45,
   "metadata": {},
   "outputs": [
    {
     "data": {
      "text/plain": [
       "tensor([[-2.3760, -2.2649, -2.3562, -2.3057, -2.3215, -2.3561, -2.3286, -2.2763,\n",
       "         -2.1857, -2.2695]], grad_fn=<LogSoftmaxBackward>)"
      ]
     },
     "execution_count": 45,
     "metadata": {},
     "output_type": "execute_result"
    }
   ],
   "source": [
    "output"
   ]
  },
  {
   "cell_type": "markdown",
   "metadata": {},
   "source": [
    " Our task in minimise the lost.\n",
    " Optimizer optimimzes the loss by setting parameters in such a way."
   ]
  },
  {
   "cell_type": "code",
   "execution_count": 46,
   "metadata": {},
   "outputs": [],
   "source": [
    "import torch.optim as optim"
   ]
  },
  {
   "cell_type": "code",
   "execution_count": 47,
   "metadata": {},
   "outputs": [
    {
     "name": "stdout",
     "output_type": "stream",
     "text": [
      "tensor(0.1130, grad_fn=<NllLossBackward>)\n",
      "tensor(0.0080, grad_fn=<NllLossBackward>)\n",
      "tensor(0.0582, grad_fn=<NllLossBackward>)\n"
     ]
    }
   ],
   "source": [
    "optimizer = optim.Adam(net.parameters(), lr=0.001)\n",
    "\n",
    "# net.parameters() is everything adjustable in our model.\n",
    "# lr is the learnign rate.\n",
    "#lr needs to be ideal, neither too small nor too big. But we have no idea.\n",
    "#So we do decaying learning rate, start big getting smaller and smaller. (currently not doing it here). \n",
    "\n",
    "EPOCHS = 3\n",
    "\n",
    "for epoch in range(EPOCHS):\n",
    "    for data in trainset:\n",
    "        #(Data in batch of featuresets and labels)\n",
    "        X, y = data\n",
    "        net.zero_grad()\n",
    "        output = net(X.view(-1,28*28))\n",
    "        loss = F.nll_loss(output, y)\n",
    "        loss.backward()\n",
    "        optimizer.step() #adjust the weights.\n",
    "    print(loss)\n",
    "        "
   ]
  },
  {
   "cell_type": "code",
   "execution_count": 53,
   "metadata": {},
   "outputs": [
    {
     "name": "stdout",
     "output_type": "stream",
     "text": [
      "Accuracy:  0.978\n"
     ]
    }
   ],
   "source": [
    "correct = 0\n",
    "total = 0\n",
    "\n",
    "with torch.no_grad():\n",
    "    for data in trainset:\n",
    "        X,y = data\n",
    "        output = net(X.view(-1,784))\n",
    "        for idx, i in enumerate(output):\n",
    "            if torch.argmax(i) == y[idx]:\n",
    "                correct+=1\n",
    "            total += 1\n",
    "print(\"Accuracy: \",round(correct/total,3))\n",
    "    "
   ]
  },
  {
   "cell_type": "code",
   "execution_count": 50,
   "metadata": {},
   "outputs": [
    {
     "name": "stdout",
     "output_type": "stream",
     "text": [
      "Accuracy:  0.966\n"
     ]
    }
   ],
   "source": [
    "correct = 0\n",
    "total = 0\n",
    "\n",
    "with torch.no_grad():\n",
    "    for data in testset:\n",
    "        X,y = data\n",
    "        output = net(X.view(-1,784))\n",
    "        for idx, i in enumerate(output):\n",
    "            if torch.argmax(i) == y[idx]:\n",
    "                correct+=1\n",
    "            total += 1\n",
    "print(\"Accuracy: \",round(correct/total,3))\n",
    "    "
   ]
  },
  {
   "cell_type": "code",
   "execution_count": 51,
   "metadata": {},
   "outputs": [],
   "source": [
    "import matplotlib.pyplot as plt"
   ]
  },
  {
   "cell_type": "code",
   "execution_count": 54,
   "metadata": {},
   "outputs": [
    {
     "data": {
      "image/png": "[encoded data removed]",
      "text/plain": [
       "<Figure size 432x288 with 1 Axes>"
      ]
     },
     "metadata": {
      "needs_background": "light"
     },
     "output_type": "display_data"
    }
   ],
   "source": [
    "plt.imshow(X[0].view(28,28))\n",
    "plt.show()"
   ]
  },
  {
   "cell_type": "code",
   "execution_count": 55,
   "metadata": {},
   "outputs": [
    {
     "name": "stdout",
     "output_type": "stream",
     "text": [
      "tensor(7, grad_fn=<NotImplemented>)\n"
     ]
    }
   ],
   "source": [
    "print(torch.argmax(net(X[0].view(-1,784))[0]))"
   ]
  },
  {
   "cell_type": "code",
   "execution_count": 56,
   "metadata": {},
   "outputs": [
    {
     "data": {
      "image/png": "[encoded data removed]",
      "text/plain": [
       "<Figure size 432x288 with 1 Axes>"
      ]
     },
     "metadata": {
      "needs_background": "light"
     },
     "output_type": "display_data"
    }
   ],
   "source": [
    "plt.imshow(X[1].view(28,28))\n",
    "plt.show()"
   ]
  },
  {
   "cell_type": "code",
   "execution_count": 58,
   "metadata": {},
   "outputs": [
    {
     "name": "stdout",
     "output_type": "stream",
     "text": [
      "tensor(4, grad_fn=<NotImplemented>)\n"
     ]
    }
   ],
   "source": [
    "print(torch.argmax(net(X[1].view(-1,784))[0]))"
   ]
  },
  {
   "cell_type": "code",
   "execution_count": 59,
   "metadata": {},
   "outputs": [
    {
     "data": {
      "image/png": "[encoded data removed]",
      "text/plain": [
       "<Figure size 432x288 with 1 Axes>"
      ]
     },
     "metadata": {
      "needs_background": "light"
     },
     "output_type": "display_data"
    }
   ],
   "source": [
    "plt.imshow(X[8].view(28,28))\n",
    "plt.show()"
   ]
  },
  {
   "cell_type": "code",
   "execution_count": 60,
   "metadata": {},
   "outputs": [
    {
     "name": "stdout",
     "output_type": "stream",
     "text": [
      "tensor(2, grad_fn=<NotImplemented>)\n"
     ]
    }
   ],
   "source": [
    "print(torch.argmax(net(X[8].view(-1,784))[0]))"
   ]
  },
  {
   "cell_type": "code",
   "execution_count": null,
   "metadata": {},
   "outputs": [],
   "source": []
  }
 ],
 "metadata": {
  "kernelspec": {
   "display_name": "Python 3",
   "language": "python",
   "name": "python3"
  },
  "language_info": {
   "codemirror_mode": {
    "name": "ipython",
    "version": 3
   },
   "file_extension": ".py",
   "mimetype": "text/x-python",
   "name": "python",
   "nbconvert_exporter": "python",
   "pygments_lexer": "ipython3",
   "version": "3.7.7"
  }
 },
 "nbformat": 4,
 "nbformat_minor": 4
}
